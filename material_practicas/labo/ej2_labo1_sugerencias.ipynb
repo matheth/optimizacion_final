{
 "cells": [
  {
   "cell_type": "markdown",
   "metadata": {},
   "source": [
    "### Datasets y Dataframes: Sugerencias"
   ]
  },
  {
   "cell_type": "markdown",
   "metadata": {},
   "source": [
    "En primer lugar debemos instalar el el paquete **MLDatasets** y **DataFrames**.  "
   ]
  },
  {
   "cell_type": "code",
   "execution_count": 8,
   "metadata": {},
   "outputs": [],
   "source": [
    "using MLDatasets: Titanic #de esta forma ya estamos importando el datasets 'Titanic'\n",
    "using DataFrames"
   ]
  },
  {
   "cell_type": "code",
   "execution_count": 9,
   "metadata": {},
   "outputs": [
    {
     "data": {
      "text/html": [
       "<div><div style = \"float: left;\"><span>891×12 DataFrame</span></div><div style = \"float: right;\"><span style = \"font-style: italic;\">866 rows omitted</span></div><div style = \"clear: both;\"></div></div><div class = \"data-frame\" style = \"overflow-x: scroll;\"><table class = \"data-frame\" style = \"margin-bottom: 6px;\"><thead><tr class = \"header\"><th class = \"rowNumber\" style = \"font-weight: bold; text-align: right;\">Row</th><th style = \"text-align: left;\">PassengerId</th><th style = \"text-align: left;\">Survived</th><th style = \"text-align: left;\">Pclass</th><th style = \"text-align: left;\">Name</th><th style = \"text-align: left;\">Sex</th><th style = \"text-align: left;\">Age</th><th style = \"text-align: left;\">SibSp</th><th style = \"text-align: left;\">Parch</th><th style = \"text-align: left;\">Ticket</th><th style = \"text-align: left;\">Fare</th><th style = \"text-align: left;\">Cabin</th><th style = \"text-align: left;\">Embarked</th></tr><tr class = \"subheader headerLastRow\"><th class = \"rowNumber\" style = \"font-weight: bold; text-align: right;\"></th><th title = \"Int64\" style = \"text-align: left;\">Int64</th><th title = \"Int64\" style = \"text-align: left;\">Int64</th><th title = \"Int64\" style = \"text-align: left;\">Int64</th><th title = \"String\" style = \"text-align: left;\">String</th><th title = \"InlineStrings.String7\" style = \"text-align: left;\">String7</th><th title = \"Union{Missing, Float64}\" style = \"text-align: left;\">Float64?</th><th title = \"Int64\" style = \"text-align: left;\">Int64</th><th title = \"Int64\" style = \"text-align: left;\">Int64</th><th title = \"InlineStrings.String31\" style = \"text-align: left;\">String31</th><th title = \"Float64\" style = \"text-align: left;\">Float64</th><th title = \"Union{Missing, InlineStrings.String15}\" style = \"text-align: left;\">String15?</th><th title = \"Union{Missing, InlineStrings.String1}\" style = \"text-align: left;\">String1?</th></tr></thead><tbody><tr><td class = \"rowNumber\" style = \"font-weight: bold; text-align: right;\">1</td><td style = \"text-align: right;\">1</td><td style = \"text-align: right;\">0</td><td style = \"text-align: right;\">3</td><td style = \"text-align: left;\">Braund, Mr. Owen Harris</td><td style = \"text-align: left;\">male</td><td style = \"text-align: right;\">22.0</td><td style = \"text-align: right;\">1</td><td style = \"text-align: right;\">0</td><td style = \"text-align: left;\">A/5 21171</td><td style = \"text-align: right;\">7.25</td><td style = \"font-style: italic; text-align: left;\">missing</td><td style = \"text-align: left;\">S</td></tr><tr><td class = \"rowNumber\" style = \"font-weight: bold; text-align: right;\">2</td><td style = \"text-align: right;\">2</td><td style = \"text-align: right;\">1</td><td style = \"text-align: right;\">1</td><td style = \"text-align: left;\">Cumings, Mrs. John Bradley (Florence Briggs Thayer)</td><td style = \"text-align: left;\">female</td><td style = \"text-align: right;\">38.0</td><td style = \"text-align: right;\">1</td><td style = \"text-align: right;\">0</td><td style = \"text-align: left;\">PC 17599</td><td style = \"text-align: right;\">71.2833</td><td style = \"text-align: left;\">C85</td><td style = \"text-align: left;\">C</td></tr><tr><td class = \"rowNumber\" style = \"font-weight: bold; text-align: right;\">3</td><td style = \"text-align: right;\">3</td><td style = \"text-align: right;\">1</td><td style = \"text-align: right;\">3</td><td style = \"text-align: left;\">Heikkinen, Miss. Laina</td><td style = \"text-align: left;\">female</td><td style = \"text-align: right;\">26.0</td><td style = \"text-align: right;\">0</td><td style = \"text-align: right;\">0</td><td style = \"text-align: left;\">STON/O2. 3101282</td><td style = \"text-align: right;\">7.925</td><td style = \"font-style: italic; text-align: left;\">missing</td><td style = \"text-align: left;\">S</td></tr><tr><td class = \"rowNumber\" style = \"font-weight: bold; text-align: right;\">4</td><td style = \"text-align: right;\">4</td><td style = \"text-align: right;\">1</td><td style = \"text-align: right;\">1</td><td style = \"text-align: left;\">Futrelle, Mrs. Jacques Heath (Lily May Peel)</td><td style = \"text-align: left;\">female</td><td style = \"text-align: right;\">35.0</td><td style = \"text-align: right;\">1</td><td style = \"text-align: right;\">0</td><td style = \"text-align: left;\">113803</td><td style = \"text-align: right;\">53.1</td><td style = \"text-align: left;\">C123</td><td style = \"text-align: left;\">S</td></tr><tr><td class = \"rowNumber\" style = \"font-weight: bold; text-align: right;\">5</td><td style = \"text-align: right;\">5</td><td style = \"text-align: right;\">0</td><td style = \"text-align: right;\">3</td><td style = \"text-align: left;\">Allen, Mr. William Henry</td><td style = \"text-align: left;\">male</td><td style = \"text-align: right;\">35.0</td><td style = \"text-align: right;\">0</td><td style = \"text-align: right;\">0</td><td style = \"text-align: left;\">373450</td><td style = \"text-align: right;\">8.05</td><td style = \"font-style: italic; text-align: left;\">missing</td><td style = \"text-align: left;\">S</td></tr><tr><td class = \"rowNumber\" style = \"font-weight: bold; text-align: right;\">6</td><td style = \"text-align: right;\">6</td><td style = \"text-align: right;\">0</td><td style = \"text-align: right;\">3</td><td style = \"text-align: left;\">Moran, Mr. James</td><td style = \"text-align: left;\">male</td><td style = \"font-style: italic; text-align: right;\">missing</td><td style = \"text-align: right;\">0</td><td style = \"text-align: right;\">0</td><td style = \"text-align: left;\">330877</td><td style = \"text-align: right;\">8.4583</td><td style = \"font-style: italic; text-align: left;\">missing</td><td style = \"text-align: left;\">Q</td></tr><tr><td class = \"rowNumber\" style = \"font-weight: bold; text-align: right;\">7</td><td style = \"text-align: right;\">7</td><td style = \"text-align: right;\">0</td><td style = \"text-align: right;\">1</td><td style = \"text-align: left;\">McCarthy, Mr. Timothy J</td><td style = \"text-align: left;\">male</td><td style = \"text-align: right;\">54.0</td><td style = \"text-align: right;\">0</td><td style = \"text-align: right;\">0</td><td style = \"text-align: left;\">17463</td><td style = \"text-align: right;\">51.8625</td><td style = \"text-align: left;\">E46</td><td style = \"text-align: left;\">S</td></tr><tr><td class = \"rowNumber\" style = \"font-weight: bold; text-align: right;\">8</td><td style = \"text-align: right;\">8</td><td style = \"text-align: right;\">0</td><td style = \"text-align: right;\">3</td><td style = \"text-align: left;\">Palsson, Master. Gosta Leonard</td><td style = \"text-align: left;\">male</td><td style = \"text-align: right;\">2.0</td><td style = \"text-align: right;\">3</td><td style = \"text-align: right;\">1</td><td style = \"text-align: left;\">349909</td><td style = \"text-align: right;\">21.075</td><td style = \"font-style: italic; text-align: left;\">missing</td><td style = \"text-align: left;\">S</td></tr><tr><td class = \"rowNumber\" style = \"font-weight: bold; text-align: right;\">9</td><td style = \"text-align: right;\">9</td><td style = \"text-align: right;\">1</td><td style = \"text-align: right;\">3</td><td style = \"text-align: left;\">Johnson, Mrs. Oscar W (Elisabeth Vilhelmina Berg)</td><td style = \"text-align: left;\">female</td><td style = \"text-align: right;\">27.0</td><td style = \"text-align: right;\">0</td><td style = \"text-align: right;\">2</td><td style = \"text-align: left;\">347742</td><td style = \"text-align: right;\">11.1333</td><td style = \"font-style: italic; text-align: left;\">missing</td><td style = \"text-align: left;\">S</td></tr><tr><td class = \"rowNumber\" style = \"font-weight: bold; text-align: right;\">10</td><td style = \"text-align: right;\">10</td><td style = \"text-align: right;\">1</td><td style = \"text-align: right;\">2</td><td style = \"text-align: left;\">Nasser, Mrs. Nicholas (Adele Achem)</td><td style = \"text-align: left;\">female</td><td style = \"text-align: right;\">14.0</td><td style = \"text-align: right;\">1</td><td style = \"text-align: right;\">0</td><td style = \"text-align: left;\">237736</td><td style = \"text-align: right;\">30.0708</td><td style = \"font-style: italic; text-align: left;\">missing</td><td style = \"text-align: left;\">C</td></tr><tr><td class = \"rowNumber\" style = \"font-weight: bold; text-align: right;\">11</td><td style = \"text-align: right;\">11</td><td style = \"text-align: right;\">1</td><td style = \"text-align: right;\">3</td><td style = \"text-align: left;\">Sandstrom, Miss. Marguerite Rut</td><td style = \"text-align: left;\">female</td><td style = \"text-align: right;\">4.0</td><td style = \"text-align: right;\">1</td><td style = \"text-align: right;\">1</td><td style = \"text-align: left;\">PP 9549</td><td style = \"text-align: right;\">16.7</td><td style = \"text-align: left;\">G6</td><td style = \"text-align: left;\">S</td></tr><tr><td class = \"rowNumber\" style = \"font-weight: bold; text-align: right;\">12</td><td style = \"text-align: right;\">12</td><td style = \"text-align: right;\">1</td><td style = \"text-align: right;\">1</td><td style = \"text-align: left;\">Bonnell, Miss. Elizabeth</td><td style = \"text-align: left;\">female</td><td style = \"text-align: right;\">58.0</td><td style = \"text-align: right;\">0</td><td style = \"text-align: right;\">0</td><td style = \"text-align: left;\">113783</td><td style = \"text-align: right;\">26.55</td><td style = \"text-align: left;\">C103</td><td style = \"text-align: left;\">S</td></tr><tr><td class = \"rowNumber\" style = \"font-weight: bold; text-align: right;\">13</td><td style = \"text-align: right;\">13</td><td style = \"text-align: right;\">0</td><td style = \"text-align: right;\">3</td><td style = \"text-align: left;\">Saundercock, Mr. William Henry</td><td style = \"text-align: left;\">male</td><td style = \"text-align: right;\">20.0</td><td style = \"text-align: right;\">0</td><td style = \"text-align: right;\">0</td><td style = \"text-align: left;\">A/5. 2151</td><td style = \"text-align: right;\">8.05</td><td style = \"font-style: italic; text-align: left;\">missing</td><td style = \"text-align: left;\">S</td></tr><tr><td style = \"text-align: right;\">&vellip;</td><td style = \"text-align: right;\">&vellip;</td><td style = \"text-align: right;\">&vellip;</td><td style = \"text-align: right;\">&vellip;</td><td style = \"text-align: right;\">&vellip;</td><td style = \"text-align: right;\">&vellip;</td><td style = \"text-align: right;\">&vellip;</td><td style = \"text-align: right;\">&vellip;</td><td style = \"text-align: right;\">&vellip;</td><td style = \"text-align: right;\">&vellip;</td><td style = \"text-align: right;\">&vellip;</td><td style = \"text-align: right;\">&vellip;</td><td style = \"text-align: right;\">&vellip;</td></tr><tr><td class = \"rowNumber\" style = \"font-weight: bold; text-align: right;\">880</td><td style = \"text-align: right;\">880</td><td style = \"text-align: right;\">1</td><td style = \"text-align: right;\">1</td><td style = \"text-align: left;\">Potter, Mrs. Thomas Jr (Lily Alexenia Wilson)</td><td style = \"text-align: left;\">female</td><td style = \"text-align: right;\">56.0</td><td style = \"text-align: right;\">0</td><td style = \"text-align: right;\">1</td><td style = \"text-align: left;\">11767</td><td style = \"text-align: right;\">83.1583</td><td style = \"text-align: left;\">C50</td><td style = \"text-align: left;\">C</td></tr><tr><td class = \"rowNumber\" style = \"font-weight: bold; text-align: right;\">881</td><td style = \"text-align: right;\">881</td><td style = \"text-align: right;\">1</td><td style = \"text-align: right;\">2</td><td style = \"text-align: left;\">Shelley, Mrs. William (Imanita Parrish Hall)</td><td style = \"text-align: left;\">female</td><td style = \"text-align: right;\">25.0</td><td style = \"text-align: right;\">0</td><td style = \"text-align: right;\">1</td><td style = \"text-align: left;\">230433</td><td style = \"text-align: right;\">26.0</td><td style = \"font-style: italic; text-align: left;\">missing</td><td style = \"text-align: left;\">S</td></tr><tr><td class = \"rowNumber\" style = \"font-weight: bold; text-align: right;\">882</td><td style = \"text-align: right;\">882</td><td style = \"text-align: right;\">0</td><td style = \"text-align: right;\">3</td><td style = \"text-align: left;\">Markun, Mr. Johann</td><td style = \"text-align: left;\">male</td><td style = \"text-align: right;\">33.0</td><td style = \"text-align: right;\">0</td><td style = \"text-align: right;\">0</td><td style = \"text-align: left;\">349257</td><td style = \"text-align: right;\">7.8958</td><td style = \"font-style: italic; text-align: left;\">missing</td><td style = \"text-align: left;\">S</td></tr><tr><td class = \"rowNumber\" style = \"font-weight: bold; text-align: right;\">883</td><td style = \"text-align: right;\">883</td><td style = \"text-align: right;\">0</td><td style = \"text-align: right;\">3</td><td style = \"text-align: left;\">Dahlberg, Miss. Gerda Ulrika</td><td style = \"text-align: left;\">female</td><td style = \"text-align: right;\">22.0</td><td style = \"text-align: right;\">0</td><td style = \"text-align: right;\">0</td><td style = \"text-align: left;\">7552</td><td style = \"text-align: right;\">10.5167</td><td style = \"font-style: italic; text-align: left;\">missing</td><td style = \"text-align: left;\">S</td></tr><tr><td class = \"rowNumber\" style = \"font-weight: bold; text-align: right;\">884</td><td style = \"text-align: right;\">884</td><td style = \"text-align: right;\">0</td><td style = \"text-align: right;\">2</td><td style = \"text-align: left;\">Banfield, Mr. Frederick James</td><td style = \"text-align: left;\">male</td><td style = \"text-align: right;\">28.0</td><td style = \"text-align: right;\">0</td><td style = \"text-align: right;\">0</td><td style = \"text-align: left;\">C.A./SOTON 34068</td><td style = \"text-align: right;\">10.5</td><td style = \"font-style: italic; text-align: left;\">missing</td><td style = \"text-align: left;\">S</td></tr><tr><td class = \"rowNumber\" style = \"font-weight: bold; text-align: right;\">885</td><td style = \"text-align: right;\">885</td><td style = \"text-align: right;\">0</td><td style = \"text-align: right;\">3</td><td style = \"text-align: left;\">Sutehall, Mr. Henry Jr</td><td style = \"text-align: left;\">male</td><td style = \"text-align: right;\">25.0</td><td style = \"text-align: right;\">0</td><td style = \"text-align: right;\">0</td><td style = \"text-align: left;\">SOTON/OQ 392076</td><td style = \"text-align: right;\">7.05</td><td style = \"font-style: italic; text-align: left;\">missing</td><td style = \"text-align: left;\">S</td></tr><tr><td class = \"rowNumber\" style = \"font-weight: bold; text-align: right;\">886</td><td style = \"text-align: right;\">886</td><td style = \"text-align: right;\">0</td><td style = \"text-align: right;\">3</td><td style = \"text-align: left;\">Rice, Mrs. William (Margaret Norton)</td><td style = \"text-align: left;\">female</td><td style = \"text-align: right;\">39.0</td><td style = \"text-align: right;\">0</td><td style = \"text-align: right;\">5</td><td style = \"text-align: left;\">382652</td><td style = \"text-align: right;\">29.125</td><td style = \"font-style: italic; text-align: left;\">missing</td><td style = \"text-align: left;\">Q</td></tr><tr><td class = \"rowNumber\" style = \"font-weight: bold; text-align: right;\">887</td><td style = \"text-align: right;\">887</td><td style = \"text-align: right;\">0</td><td style = \"text-align: right;\">2</td><td style = \"text-align: left;\">Montvila, Rev. Juozas</td><td style = \"text-align: left;\">male</td><td style = \"text-align: right;\">27.0</td><td style = \"text-align: right;\">0</td><td style = \"text-align: right;\">0</td><td style = \"text-align: left;\">211536</td><td style = \"text-align: right;\">13.0</td><td style = \"font-style: italic; text-align: left;\">missing</td><td style = \"text-align: left;\">S</td></tr><tr><td class = \"rowNumber\" style = \"font-weight: bold; text-align: right;\">888</td><td style = \"text-align: right;\">888</td><td style = \"text-align: right;\">1</td><td style = \"text-align: right;\">1</td><td style = \"text-align: left;\">Graham, Miss. Margaret Edith</td><td style = \"text-align: left;\">female</td><td style = \"text-align: right;\">19.0</td><td style = \"text-align: right;\">0</td><td style = \"text-align: right;\">0</td><td style = \"text-align: left;\">112053</td><td style = \"text-align: right;\">30.0</td><td style = \"text-align: left;\">B42</td><td style = \"text-align: left;\">S</td></tr><tr><td class = \"rowNumber\" style = \"font-weight: bold; text-align: right;\">889</td><td style = \"text-align: right;\">889</td><td style = \"text-align: right;\">0</td><td style = \"text-align: right;\">3</td><td style = \"text-align: left;\">Johnston, Miss. Catherine Helen &quot;Carrie&quot;</td><td style = \"text-align: left;\">female</td><td style = \"font-style: italic; text-align: right;\">missing</td><td style = \"text-align: right;\">1</td><td style = \"text-align: right;\">2</td><td style = \"text-align: left;\">W./C. 6607</td><td style = \"text-align: right;\">23.45</td><td style = \"font-style: italic; text-align: left;\">missing</td><td style = \"text-align: left;\">S</td></tr><tr><td class = \"rowNumber\" style = \"font-weight: bold; text-align: right;\">890</td><td style = \"text-align: right;\">890</td><td style = \"text-align: right;\">1</td><td style = \"text-align: right;\">1</td><td style = \"text-align: left;\">Behr, Mr. Karl Howell</td><td style = \"text-align: left;\">male</td><td style = \"text-align: right;\">26.0</td><td style = \"text-align: right;\">0</td><td style = \"text-align: right;\">0</td><td style = \"text-align: left;\">111369</td><td style = \"text-align: right;\">30.0</td><td style = \"text-align: left;\">C148</td><td style = \"text-align: left;\">C</td></tr><tr><td class = \"rowNumber\" style = \"font-weight: bold; text-align: right;\">891</td><td style = \"text-align: right;\">891</td><td style = \"text-align: right;\">0</td><td style = \"text-align: right;\">3</td><td style = \"text-align: left;\">Dooley, Mr. Patrick</td><td style = \"text-align: left;\">male</td><td style = \"text-align: right;\">32.0</td><td style = \"text-align: right;\">0</td><td style = \"text-align: right;\">0</td><td style = \"text-align: left;\">370376</td><td style = \"text-align: right;\">7.75</td><td style = \"font-style: italic; text-align: left;\">missing</td><td style = \"text-align: left;\">Q</td></tr></tbody></table></div>"
      ],
      "text/latex": [
       "\\begin{tabular}{r|ccccc}\n",
       "\t& PassengerId & Survived & Pclass & Name & \\\\\n",
       "\t\\hline\n",
       "\t& Int64 & Int64 & Int64 & String & \\\\\n",
       "\t\\hline\n",
       "\t1 & 1 & 0 & 3 & Braund, Mr. Owen Harris & $\\dots$ \\\\\n",
       "\t2 & 2 & 1 & 1 & Cumings, Mrs. John Bradley (Florence Briggs Thayer) & $\\dots$ \\\\\n",
       "\t3 & 3 & 1 & 3 & Heikkinen, Miss. Laina & $\\dots$ \\\\\n",
       "\t4 & 4 & 1 & 1 & Futrelle, Mrs. Jacques Heath (Lily May Peel) & $\\dots$ \\\\\n",
       "\t5 & 5 & 0 & 3 & Allen, Mr. William Henry & $\\dots$ \\\\\n",
       "\t6 & 6 & 0 & 3 & Moran, Mr. James & $\\dots$ \\\\\n",
       "\t7 & 7 & 0 & 1 & McCarthy, Mr. Timothy J & $\\dots$ \\\\\n",
       "\t8 & 8 & 0 & 3 & Palsson, Master. Gosta Leonard & $\\dots$ \\\\\n",
       "\t9 & 9 & 1 & 3 & Johnson, Mrs. Oscar W (Elisabeth Vilhelmina Berg) & $\\dots$ \\\\\n",
       "\t10 & 10 & 1 & 2 & Nasser, Mrs. Nicholas (Adele Achem) & $\\dots$ \\\\\n",
       "\t11 & 11 & 1 & 3 & Sandstrom, Miss. Marguerite Rut & $\\dots$ \\\\\n",
       "\t12 & 12 & 1 & 1 & Bonnell, Miss. Elizabeth & $\\dots$ \\\\\n",
       "\t13 & 13 & 0 & 3 & Saundercock, Mr. William Henry & $\\dots$ \\\\\n",
       "\t14 & 14 & 0 & 3 & Andersson, Mr. Anders Johan & $\\dots$ \\\\\n",
       "\t15 & 15 & 0 & 3 & Vestrom, Miss. Hulda Amanda Adolfina & $\\dots$ \\\\\n",
       "\t16 & 16 & 1 & 2 & Hewlett, Mrs. (Mary D Kingcome)  & $\\dots$ \\\\\n",
       "\t17 & 17 & 0 & 3 & Rice, Master. Eugene & $\\dots$ \\\\\n",
       "\t18 & 18 & 1 & 2 & Williams, Mr. Charles Eugene & $\\dots$ \\\\\n",
       "\t19 & 19 & 0 & 3 & Vander Planke, Mrs. Julius (Emelia Maria Vandemoortele) & $\\dots$ \\\\\n",
       "\t20 & 20 & 1 & 3 & Masselmani, Mrs. Fatima & $\\dots$ \\\\\n",
       "\t21 & 21 & 0 & 2 & Fynney, Mr. Joseph J & $\\dots$ \\\\\n",
       "\t22 & 22 & 1 & 2 & Beesley, Mr. Lawrence & $\\dots$ \\\\\n",
       "\t23 & 23 & 1 & 3 & McGowan, Miss. Anna \"Annie\" & $\\dots$ \\\\\n",
       "\t24 & 24 & 1 & 1 & Sloper, Mr. William Thompson & $\\dots$ \\\\\n",
       "\t$\\dots$ & $\\dots$ & $\\dots$ & $\\dots$ & $\\dots$ &  \\\\\n",
       "\\end{tabular}\n"
      ],
      "text/plain": [
       "\u001b[1m891×12 DataFrame\u001b[0m\n",
       "\u001b[1m Row \u001b[0m│\u001b[1m PassengerId \u001b[0m\u001b[1m Survived \u001b[0m\u001b[1m Pclass \u001b[0m\u001b[1m Name                              \u001b[0m\u001b[1m Sex  \u001b[0m ⋯\n",
       "     │\u001b[90m Int64       \u001b[0m\u001b[90m Int64    \u001b[0m\u001b[90m Int64  \u001b[0m\u001b[90m String                            \u001b[0m\u001b[90m Strin\u001b[0m ⋯\n",
       "─────┼──────────────────────────────────────────────────────────────────────────\n",
       "   1 │           1         0       3  Braund, Mr. Owen Harris            male  ⋯\n",
       "   2 │           2         1       1  Cumings, Mrs. John Bradley (Flor…  femal\n",
       "   3 │           3         1       3  Heikkinen, Miss. Laina             femal\n",
       "   4 │           4         1       1  Futrelle, Mrs. Jacques Heath (Li…  femal\n",
       "   5 │           5         0       3  Allen, Mr. William Henry           male  ⋯\n",
       "   6 │           6         0       3  Moran, Mr. James                   male\n",
       "   7 │           7         0       1  McCarthy, Mr. Timothy J            male\n",
       "   8 │           8         0       3  Palsson, Master. Gosta Leonard     male\n",
       "  ⋮  │      ⋮          ⋮        ⋮                     ⋮                     ⋮  ⋱\n",
       " 885 │         885         0       3  Sutehall, Mr. Henry Jr             male  ⋯\n",
       " 886 │         886         0       3  Rice, Mrs. William (Margaret Nor…  femal\n",
       " 887 │         887         0       2  Montvila, Rev. Juozas              male\n",
       " 888 │         888         1       1  Graham, Miss. Margaret Edith       femal\n",
       " 889 │         889         0       3  Johnston, Miss. Catherine Helen …  femal ⋯\n",
       " 890 │         890         1       1  Behr, Mr. Karl Howell              male\n",
       " 891 │         891         0       3  Dooley, Mr. Patrick                male\n",
       "\u001b[36m                                                  8 columns and 876 rows omitted\u001b[0m"
      ]
     },
     "metadata": {},
     "output_type": "display_data"
    }
   ],
   "source": [
    "#visualizamos el datasets\n",
    "titanic = Titanic()\n",
    "df = titanic.dataframe"
   ]
  },
  {
   "cell_type": "code",
   "execution_count": 10,
   "metadata": {},
   "outputs": [
    {
     "data": {
      "text/html": [
       "<div><div style = \"float: left;\"><span>891×4 DataFrame</span></div><div style = \"float: right;\"><span style = \"font-style: italic;\">866 rows omitted</span></div><div style = \"clear: both;\"></div></div><div class = \"data-frame\" style = \"overflow-x: scroll;\"><table class = \"data-frame\" style = \"margin-bottom: 6px;\"><thead><tr class = \"header\"><th class = \"rowNumber\" style = \"font-weight: bold; text-align: right;\">Row</th><th style = \"text-align: left;\">Survived</th><th style = \"text-align: left;\">Pclass</th><th style = \"text-align: left;\">Age</th><th style = \"text-align: left;\">Fare</th></tr><tr class = \"subheader headerLastRow\"><th class = \"rowNumber\" style = \"font-weight: bold; text-align: right;\"></th><th title = \"Int64\" style = \"text-align: left;\">Int64</th><th title = \"Int64\" style = \"text-align: left;\">Int64</th><th title = \"Union{Missing, Float64}\" style = \"text-align: left;\">Float64?</th><th title = \"Float64\" style = \"text-align: left;\">Float64</th></tr></thead><tbody><tr><td class = \"rowNumber\" style = \"font-weight: bold; text-align: right;\">1</td><td style = \"text-align: right;\">0</td><td style = \"text-align: right;\">3</td><td style = \"text-align: right;\">22.0</td><td style = \"text-align: right;\">7.25</td></tr><tr><td class = \"rowNumber\" style = \"font-weight: bold; text-align: right;\">2</td><td style = \"text-align: right;\">1</td><td style = \"text-align: right;\">1</td><td style = \"text-align: right;\">38.0</td><td style = \"text-align: right;\">71.2833</td></tr><tr><td class = \"rowNumber\" style = \"font-weight: bold; text-align: right;\">3</td><td style = \"text-align: right;\">1</td><td style = \"text-align: right;\">3</td><td style = \"text-align: right;\">26.0</td><td style = \"text-align: right;\">7.925</td></tr><tr><td class = \"rowNumber\" style = \"font-weight: bold; text-align: right;\">4</td><td style = \"text-align: right;\">1</td><td style = \"text-align: right;\">1</td><td style = \"text-align: right;\">35.0</td><td style = \"text-align: right;\">53.1</td></tr><tr><td class = \"rowNumber\" style = \"font-weight: bold; text-align: right;\">5</td><td style = \"text-align: right;\">0</td><td style = \"text-align: right;\">3</td><td style = \"text-align: right;\">35.0</td><td style = \"text-align: right;\">8.05</td></tr><tr><td class = \"rowNumber\" style = \"font-weight: bold; text-align: right;\">6</td><td style = \"text-align: right;\">0</td><td style = \"text-align: right;\">3</td><td style = \"font-style: italic; text-align: right;\">missing</td><td style = \"text-align: right;\">8.4583</td></tr><tr><td class = \"rowNumber\" style = \"font-weight: bold; text-align: right;\">7</td><td style = \"text-align: right;\">0</td><td style = \"text-align: right;\">1</td><td style = \"text-align: right;\">54.0</td><td style = \"text-align: right;\">51.8625</td></tr><tr><td class = \"rowNumber\" style = \"font-weight: bold; text-align: right;\">8</td><td style = \"text-align: right;\">0</td><td style = \"text-align: right;\">3</td><td style = \"text-align: right;\">2.0</td><td style = \"text-align: right;\">21.075</td></tr><tr><td class = \"rowNumber\" style = \"font-weight: bold; text-align: right;\">9</td><td style = \"text-align: right;\">1</td><td style = \"text-align: right;\">3</td><td style = \"text-align: right;\">27.0</td><td style = \"text-align: right;\">11.1333</td></tr><tr><td class = \"rowNumber\" style = \"font-weight: bold; text-align: right;\">10</td><td style = \"text-align: right;\">1</td><td style = \"text-align: right;\">2</td><td style = \"text-align: right;\">14.0</td><td style = \"text-align: right;\">30.0708</td></tr><tr><td class = \"rowNumber\" style = \"font-weight: bold; text-align: right;\">11</td><td style = \"text-align: right;\">1</td><td style = \"text-align: right;\">3</td><td style = \"text-align: right;\">4.0</td><td style = \"text-align: right;\">16.7</td></tr><tr><td class = \"rowNumber\" style = \"font-weight: bold; text-align: right;\">12</td><td style = \"text-align: right;\">1</td><td style = \"text-align: right;\">1</td><td style = \"text-align: right;\">58.0</td><td style = \"text-align: right;\">26.55</td></tr><tr><td class = \"rowNumber\" style = \"font-weight: bold; text-align: right;\">13</td><td style = \"text-align: right;\">0</td><td style = \"text-align: right;\">3</td><td style = \"text-align: right;\">20.0</td><td style = \"text-align: right;\">8.05</td></tr><tr><td style = \"text-align: right;\">&vellip;</td><td style = \"text-align: right;\">&vellip;</td><td style = \"text-align: right;\">&vellip;</td><td style = \"text-align: right;\">&vellip;</td><td style = \"text-align: right;\">&vellip;</td></tr><tr><td class = \"rowNumber\" style = \"font-weight: bold; text-align: right;\">880</td><td style = \"text-align: right;\">1</td><td style = \"text-align: right;\">1</td><td style = \"text-align: right;\">56.0</td><td style = \"text-align: right;\">83.1583</td></tr><tr><td class = \"rowNumber\" style = \"font-weight: bold; text-align: right;\">881</td><td style = \"text-align: right;\">1</td><td style = \"text-align: right;\">2</td><td style = \"text-align: right;\">25.0</td><td style = \"text-align: right;\">26.0</td></tr><tr><td class = \"rowNumber\" style = \"font-weight: bold; text-align: right;\">882</td><td style = \"text-align: right;\">0</td><td style = \"text-align: right;\">3</td><td style = \"text-align: right;\">33.0</td><td style = \"text-align: right;\">7.8958</td></tr><tr><td class = \"rowNumber\" style = \"font-weight: bold; text-align: right;\">883</td><td style = \"text-align: right;\">0</td><td style = \"text-align: right;\">3</td><td style = \"text-align: right;\">22.0</td><td style = \"text-align: right;\">10.5167</td></tr><tr><td class = \"rowNumber\" style = \"font-weight: bold; text-align: right;\">884</td><td style = \"text-align: right;\">0</td><td style = \"text-align: right;\">2</td><td style = \"text-align: right;\">28.0</td><td style = \"text-align: right;\">10.5</td></tr><tr><td class = \"rowNumber\" style = \"font-weight: bold; text-align: right;\">885</td><td style = \"text-align: right;\">0</td><td style = \"text-align: right;\">3</td><td style = \"text-align: right;\">25.0</td><td style = \"text-align: right;\">7.05</td></tr><tr><td class = \"rowNumber\" style = \"font-weight: bold; text-align: right;\">886</td><td style = \"text-align: right;\">0</td><td style = \"text-align: right;\">3</td><td style = \"text-align: right;\">39.0</td><td style = \"text-align: right;\">29.125</td></tr><tr><td class = \"rowNumber\" style = \"font-weight: bold; text-align: right;\">887</td><td style = \"text-align: right;\">0</td><td style = \"text-align: right;\">2</td><td style = \"text-align: right;\">27.0</td><td style = \"text-align: right;\">13.0</td></tr><tr><td class = \"rowNumber\" style = \"font-weight: bold; text-align: right;\">888</td><td style = \"text-align: right;\">1</td><td style = \"text-align: right;\">1</td><td style = \"text-align: right;\">19.0</td><td style = \"text-align: right;\">30.0</td></tr><tr><td class = \"rowNumber\" style = \"font-weight: bold; text-align: right;\">889</td><td style = \"text-align: right;\">0</td><td style = \"text-align: right;\">3</td><td style = \"font-style: italic; text-align: right;\">missing</td><td style = \"text-align: right;\">23.45</td></tr><tr><td class = \"rowNumber\" style = \"font-weight: bold; text-align: right;\">890</td><td style = \"text-align: right;\">1</td><td style = \"text-align: right;\">1</td><td style = \"text-align: right;\">26.0</td><td style = \"text-align: right;\">30.0</td></tr><tr><td class = \"rowNumber\" style = \"font-weight: bold; text-align: right;\">891</td><td style = \"text-align: right;\">0</td><td style = \"text-align: right;\">3</td><td style = \"text-align: right;\">32.0</td><td style = \"text-align: right;\">7.75</td></tr></tbody></table></div>"
      ],
      "text/latex": [
       "\\begin{tabular}{r|cccc}\n",
       "\t& Survived & Pclass & Age & Fare\\\\\n",
       "\t\\hline\n",
       "\t& Int64 & Int64 & Float64? & Float64\\\\\n",
       "\t\\hline\n",
       "\t1 & 0 & 3 & 22.0 & 7.25 \\\\\n",
       "\t2 & 1 & 1 & 38.0 & 71.2833 \\\\\n",
       "\t3 & 1 & 3 & 26.0 & 7.925 \\\\\n",
       "\t4 & 1 & 1 & 35.0 & 53.1 \\\\\n",
       "\t5 & 0 & 3 & 35.0 & 8.05 \\\\\n",
       "\t6 & 0 & 3 & \\emph{missing} & 8.4583 \\\\\n",
       "\t7 & 0 & 1 & 54.0 & 51.8625 \\\\\n",
       "\t8 & 0 & 3 & 2.0 & 21.075 \\\\\n",
       "\t9 & 1 & 3 & 27.0 & 11.1333 \\\\\n",
       "\t10 & 1 & 2 & 14.0 & 30.0708 \\\\\n",
       "\t11 & 1 & 3 & 4.0 & 16.7 \\\\\n",
       "\t12 & 1 & 1 & 58.0 & 26.55 \\\\\n",
       "\t13 & 0 & 3 & 20.0 & 8.05 \\\\\n",
       "\t14 & 0 & 3 & 39.0 & 31.275 \\\\\n",
       "\t15 & 0 & 3 & 14.0 & 7.8542 \\\\\n",
       "\t16 & 1 & 2 & 55.0 & 16.0 \\\\\n",
       "\t17 & 0 & 3 & 2.0 & 29.125 \\\\\n",
       "\t18 & 1 & 2 & \\emph{missing} & 13.0 \\\\\n",
       "\t19 & 0 & 3 & 31.0 & 18.0 \\\\\n",
       "\t20 & 1 & 3 & \\emph{missing} & 7.225 \\\\\n",
       "\t21 & 0 & 2 & 35.0 & 26.0 \\\\\n",
       "\t22 & 1 & 2 & 34.0 & 13.0 \\\\\n",
       "\t23 & 1 & 3 & 15.0 & 8.0292 \\\\\n",
       "\t24 & 1 & 1 & 28.0 & 35.5 \\\\\n",
       "\t$\\dots$ & $\\dots$ & $\\dots$ & $\\dots$ & $\\dots$ \\\\\n",
       "\\end{tabular}\n"
      ],
      "text/plain": [
       "\u001b[1m891×4 DataFrame\u001b[0m\n",
       "\u001b[1m Row \u001b[0m│\u001b[1m Survived \u001b[0m\u001b[1m Pclass \u001b[0m\u001b[1m Age       \u001b[0m\u001b[1m Fare    \u001b[0m\n",
       "     │\u001b[90m Int64    \u001b[0m\u001b[90m Int64  \u001b[0m\u001b[90m Float64?  \u001b[0m\u001b[90m Float64 \u001b[0m\n",
       "─────┼──────────────────────────────────────\n",
       "   1 │        0       3       22.0   7.25\n",
       "   2 │        1       1       38.0  71.2833\n",
       "   3 │        1       3       26.0   7.925\n",
       "   4 │        1       1       35.0  53.1\n",
       "   5 │        0       3       35.0   8.05\n",
       "   6 │        0       3 \u001b[90m missing   \u001b[0m  8.4583\n",
       "   7 │        0       1       54.0  51.8625\n",
       "   8 │        0       3        2.0  21.075\n",
       "  ⋮  │    ⋮        ⋮         ⋮         ⋮\n",
       " 885 │        0       3       25.0   7.05\n",
       " 886 │        0       3       39.0  29.125\n",
       " 887 │        0       2       27.0  13.0\n",
       " 888 │        1       1       19.0  30.0\n",
       " 889 │        0       3 \u001b[90m missing   \u001b[0m 23.45\n",
       " 890 │        1       1       26.0  30.0\n",
       " 891 │        0       3       32.0   7.75\n",
       "\u001b[36m                            876 rows omitted\u001b[0m"
      ]
     },
     "metadata": {},
     "output_type": "display_data"
    }
   ],
   "source": [
    "#para seleccionar algunas columnas podemos hacer lo siguiente\n",
    "df = df[!,[:Survived,:Pclass,:Age,:Fare]]"
   ]
  },
  {
   "cell_type": "code",
   "execution_count": 11,
   "metadata": {},
   "outputs": [
    {
     "data": {
      "text/plain": [
       "28.0"
      ]
     },
     "metadata": {},
     "output_type": "display_data"
    }
   ],
   "source": [
    "#sugerencia para calcular la mediana donde hay 'missing'. Para esto necesitamos el paquete Statistics\n",
    "using Statistics\n",
    "mediana_age = median(dropmissing(df[!,[:Age]],disallowmissing=true)[!,:Age])"
   ]
  },
  {
   "cell_type": "code",
   "execution_count": 12,
   "metadata": {},
   "outputs": [
    {
     "data": {
      "text/html": [
       "<div><div style = \"float: left;\"><span>891×4 DataFrame</span></div><div style = \"float: right;\"><span style = \"font-style: italic;\">866 rows omitted</span></div><div style = \"clear: both;\"></div></div><div class = \"data-frame\" style = \"overflow-x: scroll;\"><table class = \"data-frame\" style = \"margin-bottom: 6px;\"><thead><tr class = \"header\"><th class = \"rowNumber\" style = \"font-weight: bold; text-align: right;\">Row</th><th style = \"text-align: left;\">Survived</th><th style = \"text-align: left;\">Pclass</th><th style = \"text-align: left;\">Age</th><th style = \"text-align: left;\">Fare</th></tr><tr class = \"subheader headerLastRow\"><th class = \"rowNumber\" style = \"font-weight: bold; text-align: right;\"></th><th title = \"Int64\" style = \"text-align: left;\">Int64</th><th title = \"Int64\" style = \"text-align: left;\">Int64</th><th title = \"Union{Missing, Float64}\" style = \"text-align: left;\">Float64?</th><th title = \"Float64\" style = \"text-align: left;\">Float64</th></tr></thead><tbody><tr><td class = \"rowNumber\" style = \"font-weight: bold; text-align: right;\">1</td><td style = \"text-align: right;\">0</td><td style = \"text-align: right;\">3</td><td style = \"text-align: right;\">22.0</td><td style = \"text-align: right;\">7.25</td></tr><tr><td class = \"rowNumber\" style = \"font-weight: bold; text-align: right;\">2</td><td style = \"text-align: right;\">1</td><td style = \"text-align: right;\">1</td><td style = \"text-align: right;\">38.0</td><td style = \"text-align: right;\">71.2833</td></tr><tr><td class = \"rowNumber\" style = \"font-weight: bold; text-align: right;\">3</td><td style = \"text-align: right;\">1</td><td style = \"text-align: right;\">3</td><td style = \"text-align: right;\">26.0</td><td style = \"text-align: right;\">7.925</td></tr><tr><td class = \"rowNumber\" style = \"font-weight: bold; text-align: right;\">4</td><td style = \"text-align: right;\">1</td><td style = \"text-align: right;\">1</td><td style = \"text-align: right;\">35.0</td><td style = \"text-align: right;\">53.1</td></tr><tr><td class = \"rowNumber\" style = \"font-weight: bold; text-align: right;\">5</td><td style = \"text-align: right;\">0</td><td style = \"text-align: right;\">3</td><td style = \"text-align: right;\">35.0</td><td style = \"text-align: right;\">8.05</td></tr><tr><td class = \"rowNumber\" style = \"font-weight: bold; text-align: right;\">6</td><td style = \"text-align: right;\">0</td><td style = \"text-align: right;\">3</td><td style = \"text-align: right;\">28.0</td><td style = \"text-align: right;\">8.4583</td></tr><tr><td class = \"rowNumber\" style = \"font-weight: bold; text-align: right;\">7</td><td style = \"text-align: right;\">0</td><td style = \"text-align: right;\">1</td><td style = \"text-align: right;\">54.0</td><td style = \"text-align: right;\">51.8625</td></tr><tr><td class = \"rowNumber\" style = \"font-weight: bold; text-align: right;\">8</td><td style = \"text-align: right;\">0</td><td style = \"text-align: right;\">3</td><td style = \"text-align: right;\">2.0</td><td style = \"text-align: right;\">21.075</td></tr><tr><td class = \"rowNumber\" style = \"font-weight: bold; text-align: right;\">9</td><td style = \"text-align: right;\">1</td><td style = \"text-align: right;\">3</td><td style = \"text-align: right;\">27.0</td><td style = \"text-align: right;\">11.1333</td></tr><tr><td class = \"rowNumber\" style = \"font-weight: bold; text-align: right;\">10</td><td style = \"text-align: right;\">1</td><td style = \"text-align: right;\">2</td><td style = \"text-align: right;\">14.0</td><td style = \"text-align: right;\">30.0708</td></tr><tr><td class = \"rowNumber\" style = \"font-weight: bold; text-align: right;\">11</td><td style = \"text-align: right;\">1</td><td style = \"text-align: right;\">3</td><td style = \"text-align: right;\">4.0</td><td style = \"text-align: right;\">16.7</td></tr><tr><td class = \"rowNumber\" style = \"font-weight: bold; text-align: right;\">12</td><td style = \"text-align: right;\">1</td><td style = \"text-align: right;\">1</td><td style = \"text-align: right;\">58.0</td><td style = \"text-align: right;\">26.55</td></tr><tr><td class = \"rowNumber\" style = \"font-weight: bold; text-align: right;\">13</td><td style = \"text-align: right;\">0</td><td style = \"text-align: right;\">3</td><td style = \"text-align: right;\">20.0</td><td style = \"text-align: right;\">8.05</td></tr><tr><td style = \"text-align: right;\">&vellip;</td><td style = \"text-align: right;\">&vellip;</td><td style = \"text-align: right;\">&vellip;</td><td style = \"text-align: right;\">&vellip;</td><td style = \"text-align: right;\">&vellip;</td></tr><tr><td class = \"rowNumber\" style = \"font-weight: bold; text-align: right;\">880</td><td style = \"text-align: right;\">1</td><td style = \"text-align: right;\">1</td><td style = \"text-align: right;\">56.0</td><td style = \"text-align: right;\">83.1583</td></tr><tr><td class = \"rowNumber\" style = \"font-weight: bold; text-align: right;\">881</td><td style = \"text-align: right;\">1</td><td style = \"text-align: right;\">2</td><td style = \"text-align: right;\">25.0</td><td style = \"text-align: right;\">26.0</td></tr><tr><td class = \"rowNumber\" style = \"font-weight: bold; text-align: right;\">882</td><td style = \"text-align: right;\">0</td><td style = \"text-align: right;\">3</td><td style = \"text-align: right;\">33.0</td><td style = \"text-align: right;\">7.8958</td></tr><tr><td class = \"rowNumber\" style = \"font-weight: bold; text-align: right;\">883</td><td style = \"text-align: right;\">0</td><td style = \"text-align: right;\">3</td><td style = \"text-align: right;\">22.0</td><td style = \"text-align: right;\">10.5167</td></tr><tr><td class = \"rowNumber\" style = \"font-weight: bold; text-align: right;\">884</td><td style = \"text-align: right;\">0</td><td style = \"text-align: right;\">2</td><td style = \"text-align: right;\">28.0</td><td style = \"text-align: right;\">10.5</td></tr><tr><td class = \"rowNumber\" style = \"font-weight: bold; text-align: right;\">885</td><td style = \"text-align: right;\">0</td><td style = \"text-align: right;\">3</td><td style = \"text-align: right;\">25.0</td><td style = \"text-align: right;\">7.05</td></tr><tr><td class = \"rowNumber\" style = \"font-weight: bold; text-align: right;\">886</td><td style = \"text-align: right;\">0</td><td style = \"text-align: right;\">3</td><td style = \"text-align: right;\">39.0</td><td style = \"text-align: right;\">29.125</td></tr><tr><td class = \"rowNumber\" style = \"font-weight: bold; text-align: right;\">887</td><td style = \"text-align: right;\">0</td><td style = \"text-align: right;\">2</td><td style = \"text-align: right;\">27.0</td><td style = \"text-align: right;\">13.0</td></tr><tr><td class = \"rowNumber\" style = \"font-weight: bold; text-align: right;\">888</td><td style = \"text-align: right;\">1</td><td style = \"text-align: right;\">1</td><td style = \"text-align: right;\">19.0</td><td style = \"text-align: right;\">30.0</td></tr><tr><td class = \"rowNumber\" style = \"font-weight: bold; text-align: right;\">889</td><td style = \"text-align: right;\">0</td><td style = \"text-align: right;\">3</td><td style = \"text-align: right;\">28.0</td><td style = \"text-align: right;\">23.45</td></tr><tr><td class = \"rowNumber\" style = \"font-weight: bold; text-align: right;\">890</td><td style = \"text-align: right;\">1</td><td style = \"text-align: right;\">1</td><td style = \"text-align: right;\">26.0</td><td style = \"text-align: right;\">30.0</td></tr><tr><td class = \"rowNumber\" style = \"font-weight: bold; text-align: right;\">891</td><td style = \"text-align: right;\">0</td><td style = \"text-align: right;\">3</td><td style = \"text-align: right;\">32.0</td><td style = \"text-align: right;\">7.75</td></tr></tbody></table></div>"
      ],
      "text/latex": [
       "\\begin{tabular}{r|cccc}\n",
       "\t& Survived & Pclass & Age & Fare\\\\\n",
       "\t\\hline\n",
       "\t& Int64 & Int64 & Float64? & Float64\\\\\n",
       "\t\\hline\n",
       "\t1 & 0 & 3 & 22.0 & 7.25 \\\\\n",
       "\t2 & 1 & 1 & 38.0 & 71.2833 \\\\\n",
       "\t3 & 1 & 3 & 26.0 & 7.925 \\\\\n",
       "\t4 & 1 & 1 & 35.0 & 53.1 \\\\\n",
       "\t5 & 0 & 3 & 35.0 & 8.05 \\\\\n",
       "\t6 & 0 & 3 & 28.0 & 8.4583 \\\\\n",
       "\t7 & 0 & 1 & 54.0 & 51.8625 \\\\\n",
       "\t8 & 0 & 3 & 2.0 & 21.075 \\\\\n",
       "\t9 & 1 & 3 & 27.0 & 11.1333 \\\\\n",
       "\t10 & 1 & 2 & 14.0 & 30.0708 \\\\\n",
       "\t11 & 1 & 3 & 4.0 & 16.7 \\\\\n",
       "\t12 & 1 & 1 & 58.0 & 26.55 \\\\\n",
       "\t13 & 0 & 3 & 20.0 & 8.05 \\\\\n",
       "\t14 & 0 & 3 & 39.0 & 31.275 \\\\\n",
       "\t15 & 0 & 3 & 14.0 & 7.8542 \\\\\n",
       "\t16 & 1 & 2 & 55.0 & 16.0 \\\\\n",
       "\t17 & 0 & 3 & 2.0 & 29.125 \\\\\n",
       "\t18 & 1 & 2 & 28.0 & 13.0 \\\\\n",
       "\t19 & 0 & 3 & 31.0 & 18.0 \\\\\n",
       "\t20 & 1 & 3 & 28.0 & 7.225 \\\\\n",
       "\t21 & 0 & 2 & 35.0 & 26.0 \\\\\n",
       "\t22 & 1 & 2 & 34.0 & 13.0 \\\\\n",
       "\t23 & 1 & 3 & 15.0 & 8.0292 \\\\\n",
       "\t24 & 1 & 1 & 28.0 & 35.5 \\\\\n",
       "\t$\\dots$ & $\\dots$ & $\\dots$ & $\\dots$ & $\\dots$ \\\\\n",
       "\\end{tabular}\n"
      ],
      "text/plain": [
       "\u001b[1m891×4 DataFrame\u001b[0m\n",
       "\u001b[1m Row \u001b[0m│\u001b[1m Survived \u001b[0m\u001b[1m Pclass \u001b[0m\u001b[1m Age      \u001b[0m\u001b[1m Fare    \u001b[0m\n",
       "     │\u001b[90m Int64    \u001b[0m\u001b[90m Int64  \u001b[0m\u001b[90m Float64? \u001b[0m\u001b[90m Float64 \u001b[0m\n",
       "─────┼─────────────────────────────────────\n",
       "   1 │        0       3      22.0   7.25\n",
       "   2 │        1       1      38.0  71.2833\n",
       "   3 │        1       3      26.0   7.925\n",
       "   4 │        1       1      35.0  53.1\n",
       "   5 │        0       3      35.0   8.05\n",
       "   6 │        0       3      28.0   8.4583\n",
       "   7 │        0       1      54.0  51.8625\n",
       "   8 │        0       3       2.0  21.075\n",
       "  ⋮  │    ⋮        ⋮        ⋮         ⋮\n",
       " 885 │        0       3      25.0   7.05\n",
       " 886 │        0       3      39.0  29.125\n",
       " 887 │        0       2      27.0  13.0\n",
       " 888 │        1       1      19.0  30.0\n",
       " 889 │        0       3      28.0  23.45\n",
       " 890 │        1       1      26.0  30.0\n",
       " 891 │        0       3      32.0   7.75\n",
       "\u001b[36m                           876 rows omitted\u001b[0m"
      ]
     },
     "metadata": {},
     "output_type": "display_data"
    }
   ],
   "source": [
    "#reemplazamos los lugares con 'missing' por la mediana calculada\n",
    "replace!(df.Age,missing =>mediana_age)\n",
    "df"
   ]
  },
  {
   "cell_type": "code",
   "execution_count": 13,
   "metadata": {},
   "outputs": [],
   "source": []
  }
 ],
 "metadata": {
  "kernelspec": {
   "display_name": "Julia 1.11.3",
   "language": "julia",
   "name": "julia-1.11"
  },
  "language_info": {
   "file_extension": ".jl",
   "mimetype": "application/julia",
   "name": "julia",
   "version": "1.11.3"
  }
 },
 "nbformat": 4,
 "nbformat_minor": 2
}
