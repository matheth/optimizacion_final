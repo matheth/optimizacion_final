{
  "nbformat": 4,
  "nbformat_minor": 0,
  "metadata": {
    "colab": {
      "provenance": []
    },
    "kernelspec": {
      "name": "julia",
      "display_name": "Julia"
    },
    "language_info": {
      "name": "julia"
    }
  },
  "cells": [
    {
      "cell_type": "markdown",
      "source": [
        "Vamos a ir aprendiendo los diferentes tipos de algoritmos geneticos,siguiendo un ejemplo para maximizar f(x) = x^2.\n",
        "\n",
        "Un poco de notacion:\n",
        "- solucion factible = individuo\n",
        "- conjunto individuos = poblacion\n",
        "\n",
        "En nuestro caso un individuo va a ser un valores entero entre 0 y 31 codificado en binario.\n",
        "\n",
        "Los algoritmos geneticos constan de 3 paso por lo general:\n",
        "- Seleccion, elijo a los mejores individuos para que tengan hijos.\n",
        "- Crossover, toma dos padres y mezcla sus genes para crear nuevos individuos.\n",
        "- Mutacion, hace pequeños cambios aleatorios en los genes de los hijos."
      ],
      "metadata": {
        "id": "MTshKHO7TnNo"
      }
    },
    {
      "cell_type": "code",
      "source": [
        "# Función objetivo\n",
        "fitness(x) = x^2\n",
        "\n",
        "# Decodifica un string binario a entero\n",
        "function decode(ind::Vector{Bool})\n",
        "    return sum(ind[i] * 2^(length(ind) - i) for i in 1:length(ind))\n",
        "end\n",
        "\n",
        "# Genera un individuo aleatorio (5 bits)\n",
        "function random_individual()\n",
        "    return rand(Bool, 5)\n",
        "end"
      ],
      "metadata": {
        "colab": {
          "base_uri": "https://localhost:8080/"
        },
        "id": "gEQotXLmTmlK",
        "outputId": "43e7cbdc-57c3-47d2-8515-878c3581a73c"
      },
      "execution_count": 15,
      "outputs": [
        {
          "output_type": "execute_result",
          "data": {
            "text/plain": [
              "random_individual (generic function with 1 method)"
            ]
          },
          "metadata": {},
          "execution_count": 15
        }
      ]
    },
    {
      "cell_type": "markdown",
      "source": [
        "\n",
        "\n",
        "Formas de seleccionar:\n",
        "- Ruleta, cada individuo tiene una probabilidad proporcional a su fitness.\n",
        "- Torneo, se eligen al azar k individuos y gana el mejor.\n",
        "- Elitismo, se asegura que los mejores individuos pasan directamente a la próxima generación.\n",
        "- Ranking, los individuos se ordenan por fitness y se asignan probabilidades según posición."
      ],
      "metadata": {
        "id": "ypaxxQJgU1Ca"
      }
    },
    {
      "cell_type": "code",
      "source": [
        "# Selección por torneo\n",
        "function tournament_selection(population, k=3)\n",
        "    candidates = rand(population, k)\n",
        "    best = argmax([fitness(decode(ind)) for ind in candidates])\n",
        "    return candidates[best]\n",
        "end"
      ],
      "metadata": {
        "colab": {
          "base_uri": "https://localhost:8080/"
        },
        "id": "aL5vsMmXWsga",
        "outputId": "8151b53a-c5ee-45d1-d620-3d7cb55b013d"
      },
      "execution_count": 2,
      "outputs": [
        {
          "output_type": "execute_result",
          "data": {
            "text/plain": [
              "tournament_selection (generic function with 2 methods)"
            ]
          },
          "metadata": {},
          "execution_count": 2
        }
      ]
    },
    {
      "cell_type": "markdown",
      "source": [
        "Formas de realizar crossover:\n",
        "- Por punto, elijo un gen y lo cambiamos.\n",
        "- Por seccion, eligo un tramo e intercambio ambos tramos entre los padres.\n",
        "- Uniforme, cada gen lo elijo de forma aleatoria.\n",
        "- Promediar, si los valores posibles nos dejan hacerlo."
      ],
      "metadata": {
        "id": "RECzyKDFYKMt"
      }
    },
    {
      "cell_type": "code",
      "source": [
        "# Cruza de un punto\n",
        "function crossover(parent1, parent2)\n",
        "    point = rand(2:4)  # evitamos cortes en los extremos\n",
        "    child1 = vcat(parent1[1:point], parent2[point+1:end])\n",
        "    child2 = vcat(parent2[1:point], parent1[point+1:end])\n",
        "    return child1, child2\n",
        "end"
      ],
      "metadata": {
        "colab": {
          "base_uri": "https://localhost:8080/"
        },
        "id": "JAMddGFBYt57",
        "outputId": "de697808-837f-4e66-b1d1-5777a5a4b741"
      },
      "execution_count": 4,
      "outputs": [
        {
          "output_type": "execute_result",
          "data": {
            "text/plain": [
              "crossover (generic function with 1 method)"
            ]
          },
          "metadata": {},
          "execution_count": 4
        }
      ]
    },
    {
      "cell_type": "markdown",
      "source": [
        "Formas de mutar:\n",
        "- Bit-Flip, cambiar un bit con cierta probabilidad.\n",
        "- Ruido, le sumo una gaussiana si es posible.\n",
        "- Otras, dependiendo del problema a trabajar puedo elegir como mutar."
      ],
      "metadata": {
        "id": "QKpP7OgJYvRB"
      }
    },
    {
      "cell_type": "code",
      "source": [
        "# Bit-Flip\n",
        "function mutate(ind, pmut=0.01)\n",
        "    return [rand() < pmut ? !bit : bit for bit in ind]\n",
        "end"
      ],
      "metadata": {
        "colab": {
          "base_uri": "https://localhost:8080/"
        },
        "id": "lLnWtbwaZquq",
        "outputId": "189c7dd0-f49f-430c-8e3e-7ee48bcf3fac"
      },
      "execution_count": 5,
      "outputs": [
        {
          "output_type": "execute_result",
          "data": {
            "text/plain": [
              "mutate (generic function with 2 methods)"
            ]
          },
          "metadata": {},
          "execution_count": 5
        }
      ]
    },
    {
      "cell_type": "markdown",
      "source": [
        "Ademas tenemos distintas formas en las que podemos ir cambiando la poblacion, por ejemplo:\n",
        "\n",
        "- Reemplazar toda la poblacion en cada paso, si mi poblacion es de n individuos hago que mis padres tengan n hijos.\n",
        "- (μ,λ), genero λ hijos a partir de μ padres y solamente los hijos sobreviven.\n",
        "- μ+λ, genero λ hijos a partir de μ padres y luego elijo los mejores μ individuos entre todos.\n",
        "- Steady-state, solo unos pocos individuos son reemplazados en cada generación.\n",
        "- Age-layered, individuos se agrupan por edad. Nuevos entran por abajo y no compiten con los viejos al principio."
      ],
      "metadata": {
        "id": "V2ZP50J-aTy1"
      }
    },
    {
      "cell_type": "code",
      "execution_count": 36,
      "metadata": {
        "id": "_XMp7tcZTL8S",
        "colab": {
          "base_uri": "https://localhost:8080/"
        },
        "outputId": "802ebad5-a522-41f2-9d24-01a1f484b285"
      },
      "outputs": [
        {
          "output_type": "stream",
          "name": "stdout",
          "text": [
            "Generacion 1: mejor x = 12, f(x) = 144\n",
            "Generacion 2: mejor x = 12, f(x) = 144\n",
            "Generacion 3: mejor x = 12, f(x) = 144\n",
            "Generacion 4: mejor x = 12, f(x) = 144\n",
            "Generacion 5: mejor x = 12, f(x) = 144\n",
            "Generacion 6: mejor x = 13, f(x) = 169\n",
            "Generacion 7: mejor x = 13, f(x) = 169\n",
            "Generacion 8: mejor x = 15, f(x) = 225\n",
            "Generacion 9: mejor x = 15, f(x) = 225\n",
            "Generacion 10: mejor x = 31, f(x) = 961\n",
            "Generacion 11: mejor x = 31, f(x) = 961\n",
            "Generacion 12: mejor x = 31, f(x) = 961\n",
            "Generacion 13: mejor x = 31, f(x) = 961\n",
            "Generacion 14: mejor x = 31, f(x) = 961\n",
            "Generacion 15: mejor x = 31, f(x) = 961\n",
            "Generacion 16: mejor x = 31, f(x) = 961\n",
            "Generacion 17: mejor x = 31, f(x) = 961\n",
            "Generacion 18: mejor x = 31, f(x) = 961\n",
            "Generacion 19: mejor x = 31, f(x) = 961\n",
            "Generacion 20: mejor x = 31, f(x) = 961\n"
          ]
        }
      ],
      "source": [
        "# Algoritmo genético principal\n",
        "# pc = probabilidad crossover\n",
        "# pm = probabilidad de mutar\n",
        "function genetic_algorithm(; generations=20, popsize=5, pc=0.7, pm=0.01)\n",
        "    population = [random_individual() for _ in 1:popsize]\n",
        "\n",
        "    for gen in 1:generations\n",
        "        new_population = []\n",
        "\n",
        "        while length(new_population) < popsize\n",
        "            parent1 = tournament_selection(population)\n",
        "            parent2 = tournament_selection(population)\n",
        "\n",
        "            if rand() < pc\n",
        "                child1, child2 = crossover(parent1, parent2)\n",
        "            else\n",
        "                child1, child2 = parent1, parent2\n",
        "            end\n",
        "\n",
        "            push!(new_population, mutate(child1, pm))\n",
        "            if length(new_population) < popsize\n",
        "                push!(new_population, mutate(child2, pm))\n",
        "            end\n",
        "        end\n",
        "\n",
        "        population = new_population\n",
        "\n",
        "        # Mostrar mejor de la generación\n",
        "        best = argmax([fitness(decode(ind)) for ind in population])\n",
        "        best_ind = population[best]\n",
        "        println(\"Generacion $gen: mejor x = $(decode(best_ind)), f(x) = $(fitness(decode(best_ind)))\")\n",
        "    end\n",
        "end\n",
        "\n",
        "# Ejecutar el algoritmo\n",
        "genetic_algorithm()\n"
      ]
    }
  ]
}