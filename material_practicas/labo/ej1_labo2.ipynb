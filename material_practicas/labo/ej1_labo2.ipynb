{
 "cells": [
  {
   "cell_type": "markdown",
   "id": "bf66c5e3-9561-4154-a1f4-e906fc2980dd",
   "metadata": {},
   "source": [
    "### Métodos de descenso"
   ]
  },
  {
   "cell_type": "code",
   "execution_count": null,
   "id": "0fbc50ec-0576-4407-83b2-110511e2befb",
   "metadata": {},
   "outputs": [],
   "source": [
    "#funcion para realizar una animación de como se comporta el método de descenso\n",
    "#f: función a minimizar\n",
    "#path: vector de valores que va tomando cada iteración\n",
    "#xlim,ylim: limites del gráfico (a,b)\n",
    "#file name: \"anim.gif\" por ejemplo\n",
    "\n",
    "using Random\n",
    "\n",
    "function create_anim(f,path,xlims,ylims,file_name = joinpath(pwd(), randstring(12) * \".gif\");xbounds = xlims,ybounds = ylims,fps = 15)\n",
    "    xs = range(xlims...; length = 100)\n",
    "    ys = range(ylims...; length = 100)\n",
    "    plt = contourf(xs, ys, f; color = :jet)\n",
    "\n",
    "    # add constraints if provided\n",
    "    if !(xbounds == xlims && ybounds == ylims)\n",
    "        x_rect = [xbounds[1]; xbounds[2]; xbounds[2]; xbounds[1]; xbounds[1]]\n",
    "        y_rect = [ybounds[1]; ybounds[1]; ybounds[2]; ybounds[2]; ybounds[1]]\n",
    "\n",
    "        plot!(x_rect, y_rect; line = (2, :dash, :red), label=\"\")\n",
    "    end\n",
    "\n",
    "    # add an empty plot\n",
    "    plot!(Float64[], Float64[]; line = (4, :arrow, :black), label = \"\")\n",
    "\n",
    "    # extract the last plot series\n",
    "    plt_path = plt.series_list[end]\n",
    "\n",
    "    # create the animation and save it\n",
    "    anim = Animation()\n",
    "    for x in eachcol(path)\n",
    "        push!(plt_path, x[1], x[2]) # add a new point\n",
    "        frame(anim)\n",
    "    end\n",
    "    gif(anim, file_name; fps = fps, show_msg = false)\n",
    "    return nothing\n",
    "end\n",
    "\n"
   ]
  }
 ],
 "metadata": {
  "kernelspec": {
   "display_name": "Julia 1.11.4",
   "language": "julia",
   "name": "julia-1.11"
  },
  "language_info": {
   "file_extension": ".jl",
   "mimetype": "application/julia",
   "name": "julia",
   "version": "1.11.4"
  }
 },
 "nbformat": 4,
 "nbformat_minor": 5
}
